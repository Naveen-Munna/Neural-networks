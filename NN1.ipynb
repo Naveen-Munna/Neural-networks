{
  "nbformat": 4,
  "nbformat_minor": 0,
  "metadata": {
    "colab": {
      "provenance": [],
      "authorship_tag": "ABX9TyO5Foa1CJ5AADymH93oRoRY",
      "include_colab_link": true
    },
    "kernelspec": {
      "name": "python3",
      "display_name": "Python 3"
    },
    "language_info": {
      "name": "python"
    }
  },
  "cells": [
    {
      "cell_type": "markdown",
      "metadata": {
        "id": "view-in-github",
        "colab_type": "text"
      },
      "source": [
        "<a href=\"https://colab.research.google.com/github/Naveen-Munna/Neural-networks/blob/main/NN1.ipynb\" target=\"_parent\"><img src=\"https://colab.research.google.com/assets/colab-badge.svg\" alt=\"Open In Colab\"/></a>"
      ]
    },
    {
      "cell_type": "code",
      "execution_count": 7,
      "metadata": {
        "colab": {
          "base_uri": "https://localhost:8080/"
        },
        "id": "oIF4IlgcWPSY",
        "outputId": "b1ae5149-29ad-403f-d97e-143c02209355"
      },
      "outputs": [
        {
          "output_type": "stream",
          "name": "stdout",
          "text": [
            "Enter a string: python\n",
            "Reversed and modified string: htyp\n"
          ]
        }
      ],
      "source": [
        "st = input(\"Enter a string: \")\n",
        "Input = list(st)\n",
        "if len(Input)>=2:\n",
        " del Input[4:]\n",
        "Input.reverse()\n",
        "new_st = ''.join(Input)\n",
        "print(\"Reversed and modified string:\", new_st)"
      ]
    },
    {
      "cell_type": "code",
      "source": [
        "m = int(input(\"enter a number :\"))\n",
        "n = int(input(\"enter a number:\"))\n",
        "w = m+n\n",
        "print(w)\n",
        "x=m-n\n",
        "print(x)\n",
        "y=m*n\n",
        "print(y)\n",
        "z=m/n\n",
        "print(z)\n"
      ],
      "metadata": {
        "colab": {
          "base_uri": "https://localhost:8080/"
        },
        "id": "I8z7K8hxXEEx",
        "outputId": "cad87d18-4910-4a49-f92d-feaa348616cb"
      },
      "execution_count": 6,
      "outputs": [
        {
          "output_type": "stream",
          "name": "stdout",
          "text": [
            "enter a number :8\n",
            "enter a number:4\n",
            "12\n",
            "4\n",
            "32\n",
            "2.0\n"
          ]
        }
      ]
    },
    {
      "cell_type": "code",
      "source": [
        "from ctypes import pythonapi\n",
        "x = input(\"enter a sentence:\")\n",
        "a='python'\n",
        "b= 'pythons'\n",
        "y =x.replace(a,b)\n",
        "print(y)"
      ],
      "metadata": {
        "colab": {
          "base_uri": "https://localhost:8080/"
        },
        "id": "OWaqG4d8XOuP",
        "outputId": "304c1afd-1f73-4dce-b285-ea8513fb0ba9"
      },
      "execution_count": 4,
      "outputs": [
        {
          "output_type": "stream",
          "name": "stdout",
          "text": [
            "enter a sentence:i love python\n",
            "i love pythons\n"
          ]
        }
      ]
    },
    {
      "cell_type": "code",
      "source": [
        "marks=int(input(\"enter obtained marks:\"))\n",
        "if marks>=90:\n",
        "   print(\"A grade\")\n",
        "elif marks>=80:\n",
        "    print(\" B grade\")\n",
        "elif marks>=70:\n",
        "    print(\"C  grade\")\n",
        "elif marks<=30:\n",
        "    print(\"F grade\")\n"
      ],
      "metadata": {
        "colab": {
          "base_uri": "https://localhost:8080/"
        },
        "id": "IcDh0VK8XbN0",
        "outputId": "31d935d3-a574-4e95-e3e6-0ea8d595d30b"
      },
      "execution_count": 5,
      "outputs": [
        {
          "output_type": "stream",
          "name": "stdout",
          "text": [
            "enter obtained marks:95\n",
            "A grade\n"
          ]
        }
      ]
    }
  ]
}