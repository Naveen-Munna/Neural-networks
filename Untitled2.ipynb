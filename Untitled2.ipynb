{
  "nbformat": 4,
  "nbformat_minor": 0,
  "metadata": {
    "colab": {
      "provenance": [],
      "mount_file_id": "1xIjYjWe1PAYTPJRVI4RaOW7YZVbUJTgf",
      "authorship_tag": "ABX9TyMZI31lpCTIXxKaV6KV/T6K",
      "include_colab_link": true
    },
    "kernelspec": {
      "name": "python3",
      "display_name": "Python 3"
    },
    "language_info": {
      "name": "python"
    }
  },
  "cells": [
    {
      "cell_type": "markdown",
      "metadata": {
        "id": "view-in-github",
        "colab_type": "text"
      },
      "source": [
        "<a href=\"https://colab.research.google.com/github/Naveen-Munna/Neural-networks/blob/main/Untitled2.ipynb\" target=\"_parent\"><img src=\"https://colab.research.google.com/assets/colab-badge.svg\" alt=\"Open In Colab\"/></a>"
      ]
    },
    {
      "cell_type": "code",
      "execution_count": 1,
      "metadata": {
        "colab": {
          "base_uri": "https://localhost:8080/"
        },
        "id": "-1YAf-rMSY8X",
        "outputId": "65054b18-688d-42ae-fe62-6f5124c0e917"
      },
      "outputs": [
        {
          "output_type": "stream",
          "name": "stdout",
          "text": [
            "enter your first name naveen\n",
            "enter your last name gorantla\n",
            "your full name is naveengorantla\n"
          ]
        }
      ],
      "source": [
        "def fullname(firstname,lastname):\n",
        "  return firstname+lastname\n",
        "\n",
        "firstname=input(\"enter your first name \")\n",
        "lastname=input(\"enter your last name \")\n",
        "fullname=fullname(firstname,lastname)\n",
        "print(\"your full name is \"+fullname)"
      ]
    },
    {
      "cell_type": "code",
      "source": [
        "def string_alternative(fullname):\n",
        "  return fullname[::2]\n",
        "\n",
        "fullname=input(\"enter the fullname \")\n",
        "print(string_alternative(fullname))\n",
        "\n"
      ],
      "metadata": {
        "colab": {
          "base_uri": "https://localhost:8080/"
        },
        "id": "i7J1EOI7TfZ3",
        "outputId": "1596c54c-627a-41db-9216-ef46bb9ff66d"
      },
      "execution_count": 3,
      "outputs": [
        {
          "output_type": "stream",
          "name": "stdout",
          "text": [
            "enter the fullname naveen gorantla\n",
            "nve oata\n"
          ]
        }
      ]
    },
    {
      "cell_type": "code",
      "source": [
        "from collections import Counter\n",
        "with open('/content/drive/My Drive/input.txt', 'r') as input_file:\n",
        "    lines = input_file.readlines()\n",
        "\n",
        "output_lines = []\n",
        "list_of_words = []\n",
        "\n",
        "for line in lines:\n",
        "    line = line.strip()\n",
        "\n",
        "    list_of_words.extend(line.split(\" \"))\n",
        "\n",
        "\n",
        "element_count = Counter(list_of_words)\n",
        "\n",
        "for element, count in element_count.items():\n",
        "  output_lines.append(f\"{element} - Count: {count}\")\n",
        "\n",
        "with open('/content/drive/My Drive/output.txt', 'w') as output_file:\n",
        "    output_file.write(\"Python Course\" + '\\n')\n",
        "    output_file.write(\"Deep Learning Course\" + '\\n')\n",
        "    output_file.write(\"Word_Count:\" + '\\n')\n",
        "    for line in output_lines:\n",
        "        output_file.write(line + '\\n')\n",
        "\n",
        "print(\"Output written to output.txt\")"
      ],
      "metadata": {
        "colab": {
          "base_uri": "https://localhost:8080/"
        },
        "id": "bNs8KrpdXtTM",
        "outputId": "4f60bc4b-a052-4f69-f039-979efcaca29b"
      },
      "execution_count": 11,
      "outputs": [
        {
          "output_type": "stream",
          "name": "stdout",
          "text": [
            "Output written to output.txt\n"
          ]
        }
      ]
    },
    {
      "cell_type": "code",
      "source": [
        "height_inch=[]\n",
        "height_cm=[]\n",
        "\n",
        "\n",
        "num_customers = int(input(\"Enter the number of customers: \"))\n",
        "heights_inches = [float(input(f\"Enter the height in inches of the customer {i + 1}: \")) for i in range(num_customers)]\n",
        "heights_cm = [inches * 2.54 for inches in heights_inches]\n",
        "for i in range(num_customers):\n",
        "    print(f\"Customer {i + 1}: {heights_inches[i]} inches = {heights_cm[i]} cm\")\n"
      ],
      "metadata": {
        "colab": {
          "base_uri": "https://localhost:8080/"
        },
        "id": "epgrITLMb11s",
        "outputId": "09f2fc1b-e5bd-4720-f342-f41cb24c776c"
      },
      "execution_count": 31,
      "outputs": [
        {
          "output_type": "stream",
          "name": "stdout",
          "text": [
            "Enter the number of customers: 4\n",
            "Enter the height in inches of the customer 1: 150\n",
            "Enter the height in inches of the customer 2: 155\n",
            "Enter the height in inches of the customer 3: 145\n",
            "Enter the height in inches of the customer 4: 148\n",
            "Customer 1: 150.0 inches = 381.0 cm\n",
            "Customer 2: 155.0 inches = 393.7 cm\n",
            "Customer 3: 145.0 inches = 368.3 cm\n",
            "Customer 4: 148.0 inches = 375.92 cm\n"
          ]
        }
      ]
    },
    {
      "cell_type": "code",
      "source": [
        "height_inches=[]\n",
        "height_cm=[]\n",
        "\n",
        "height_inches=[150,155, 145, 148]\n",
        "height_cm=[inch*2.54 for inch in height_inches]\n",
        "print(height_cm)\n",
        "\n"
      ],
      "metadata": {
        "colab": {
          "base_uri": "https://localhost:8080/"
        },
        "id": "OahR8bUzb9ax",
        "outputId": "3509f700-d973-42c1-8f57-93d105593b76"
      },
      "execution_count": 33,
      "outputs": [
        {
          "output_type": "stream",
          "name": "stdout",
          "text": [
            "[381.0, 393.7, 368.3, 375.92]\n"
          ]
        }
      ]
    }
  ]
}