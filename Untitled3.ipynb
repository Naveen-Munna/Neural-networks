{
  "nbformat": 4,
  "nbformat_minor": 0,
  "metadata": {
    "colab": {
      "provenance": [],
      "authorship_tag": "ABX9TyNL2avsaovs8VTjtVKMqbDO",
      "include_colab_link": true
    },
    "kernelspec": {
      "name": "python3",
      "display_name": "Python 3"
    },
    "language_info": {
      "name": "python"
    }
  },
  "cells": [
    {
      "cell_type": "markdown",
      "metadata": {
        "id": "view-in-github",
        "colab_type": "text"
      },
      "source": [
        "<a href=\"https://colab.research.google.com/github/Naveen-Munna/Neural-networks/blob/main/Untitled3.ipynb\" target=\"_parent\"><img src=\"https://colab.research.google.com/assets/colab-badge.svg\" alt=\"Open In Colab\"/></a>"
      ]
    },
    {
      "cell_type": "code",
      "execution_count": 1,
      "metadata": {
        "colab": {
          "base_uri": "https://localhost:8080/"
        },
        "id": "Nbm68ZfVgyeJ",
        "outputId": "aae43867-d6de-4c6f-f821-8742a2b0cac1"
      },
      "outputs": [
        {
          "output_type": "stream",
          "name": "stdout",
          "text": [
            "Total number of employees: 6\n",
            "Average salary: 92500.0\n"
          ]
        }
      ],
      "source": [
        "class Employee:\n",
        "    num_employees = 0\n",
        "\n",
        "    def __init__(self, name, family, salary, department):\n",
        "        self.name = name\n",
        "        self.family = family\n",
        "        self.salary = salary\n",
        "        self.department = department\n",
        "        Employee.num_employees += 1\n",
        "\n",
        "    @classmethod\n",
        "    def average_salary(cls, employees):\n",
        "        total_salary = sum(emp.salary for emp in employees)\n",
        "        return total_salary / len(employees)\n",
        "\n",
        "class FulltimeEmployee(Employee):\n",
        "    def __init__(self, name, family, salary, department, benefits):\n",
        "        super().__init__(name, family, salary, department)\n",
        "        self.benefits = benefits\n",
        "\n",
        "\n",
        "employee1 = Employee(\"Naveen\", \"Family 1\", 65000, \"manager\")\n",
        "employee2 = Employee(\"munna\", \"Family 2\", 70000, \"IT\")\n",
        "employee3 = Employee(\"hemanth\",\"Family3\",120000, \"Team lead\")\n",
        "employee4 = Employee(\"Bala\",\"Family 4\", 120000, \"Team lead\")\n",
        "\n",
        "\n",
        "fulltime_employee1 = FulltimeEmployee(\"vamsi\", \"Family 5\", 90000, \"hospital\", \"Healthcare\")\n",
        "fulltime_employee2 = FulltimeEmployee(\"hari\", \"Family 6\", 90000, \"Finance\", \"manager\")\n",
        "\n",
        "employees = [employee1, employee2, employee3, employee4, fulltime_employee1, fulltime_employee2]\n",
        "avg_salary = Employee.average_salary(employees)\n",
        "\n",
        "print(f\"Total number of employees: {Employee.num_employees}\")\n",
        "print(f\"Average salary: {avg_salary}\")"
      ]
    },
    {
      "cell_type": "code",
      "source": [
        "import numpy as np\n",
        "\n",
        "random_vector = np.random.uniform(1, 20, size=20)\n",
        "reshaped_array = random_vector.reshape(4, 5)\n",
        "max_indices = np.argmax(reshaped_array, axis=1)\n",
        "col_indices = np.arange(5)\n",
        "reshaped_array[np.arange(4)[:, np.newaxis], max_indices] = 0\n",
        "print(reshaped_array)\n"
      ],
      "metadata": {
        "id": "WGTzX9kJhHNd",
        "outputId": "4ff3a1bc-793c-4f8f-c14f-e43ece3e4657",
        "colab": {
          "base_uri": "https://localhost:8080/"
        }
      },
      "execution_count": null,
      "outputs": [
        {
          "output_type": "stream",
          "name": "stdout",
          "text": [
            "[[ 8.90948865  0.          4.81187291  0.          0.        ]\n",
            " [12.27257202  0.          3.18184829  0.          0.        ]\n",
            " [ 8.77274749  0.         10.55077442  0.          0.        ]\n",
            " [ 9.25233249  0.          9.77553964  0.          0.        ]]\n"
          ]
        }
      ]
    }
  ]
}